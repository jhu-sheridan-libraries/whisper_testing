{
 "cells": [
  {
   "metadata": {},
   "cell_type": "code",
   "outputs": [],
   "execution_count": null,
   "source": [
    "!apt-get update -y && apt-get install -y ffmpeg libavcodec-extra libavformat-extra\n",
    "!pip install torch torchaudio\n",
    "!pip install faster-whisper\n",
    "!pip install pyannote-audio\n",
    "!pip install openai-whisper\n",
    "!pip install huggingface_hub\n",
    "!pip install webvtt-py\n",
    "!pip install pydub\n",
    "!pip install python-dotenv\n",
    "!wget https://raw.githubusercontent.com/jhu-sheridan-libraries/whisper_testing/main/transcribe_diarize.py -O /content/transcribe_diarize.py\n",
    "\n",
    "!ffmpeg -formats | grep mp4\n",
    "# you should see a line with \"DE mp4\" indicating decode/encode support\n",
    "\n",
    "import os\n",
    "import datetime\n",
    "import time\n",
    "from huggingface_hub import login\n",
    "from google.colab import userdata, files\n",
    "\n",
    "\n",
    "def format_time(seconds):\n",
    "    minutes, seconds = divmod(seconds, 60)\n",
    "    return f\"{int(minutes)} minutes and {int(seconds)} seconds\"\n",
    "\n",
    "start_time = time.time()\n",
    "print(f\"Starting notebook transcription and diarization at {datetime.datetime.now().strftime('%H:%M:%S')}\")\n",
    "\n",
    "# Set the location and file name of the audio file you wish to transcribe/diarize\n",
    "FILENAME = \"testv2.mp4\"\n",
    "\n",
    "# Replace 'your-huggingface-token' with your real Hugging Face Access Token\n",
    "# You can generate one at https://huggingface.co/settings/tokens\n",
    "\n",
    "# This is stored as a key in colab. Add it to the left column <--\n",
    "login(token=userdata.get('HF_TOKEN'))\n",
    "\n",
    "# Test that the login worked.\n",
    "!huggingface-cli whoami\n",
    "\n",
    "os.makedirs(\"/content/data\", exist_ok=True)\n",
    "\n",
    "if os.path.exists(\"/content/transcribe_diarize.py\"):\n",
    "  print(\"Success: The transcribe_diarize.py file downloaded.\")\n",
    "else:\n",
    "  print(\"Error: The transcribe_diarize.py file didn't download.\")\n",
    "\n",
    "!python transcribe_diarize.py /content/{FILENAME} \\\n",
    "  --output /content/data/output.vtt \\\n",
    "  --model small\n",
    "\n",
    "total_time = time.time() - start_time\n",
    "print(f\"\\nTotal notebook runtime: {format_time(total_time)}\")\n",
    "\n",
    "# Download results\n",
    "if os.path.exists(\"/content/data/output.vtt\"):\n",
    "  files.download(\"/content/data/output.vtt\")\n",
    "else:\n",
    "  print(\"Error: The VTT file was not generated.\")\n"
   ]
  }
 ],
 "metadata": {
  "colab": {
   "provenance": []
  },
  "kernelspec": {
   "display_name": "whisper_testing-TZzqLIal",
   "language": "python",
   "name": "python3"
  },
  "language_info": {
   "name": "python",
   "version": "3.12.7"
  }
 },
 "nbformat": 4,
 "nbformat_minor": 0
}
